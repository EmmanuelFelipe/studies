{
  "nbformat": 4,
  "nbformat_minor": 0,
  "metadata": {
    "colab": {
      "provenance": [],
      "authorship_tag": "ABX9TyOOpsrP4QFl9anTwDcurur1",
      "include_colab_link": true
    },
    "kernelspec": {
      "name": "python3",
      "display_name": "Python 3"
    },
    "language_info": {
      "name": "python"
    }
  },
  "cells": [
    {
      "cell_type": "markdown",
      "metadata": {
        "id": "view-in-github",
        "colab_type": "text"
      },
      "source": [
        "<a href=\"https://colab.research.google.com/github/EmmanuelFelipe/studies/blob/main/example_merge_sort.ipynb\" target=\"_parent\"><img src=\"https://colab.research.google.com/assets/colab-badge.svg\" alt=\"Open In Colab\"/></a>"
      ]
    },
    {
      "cell_type": "code",
      "execution_count": 3,
      "metadata": {
        "colab": {
          "base_uri": "https://localhost:8080/",
          "height": 0
        },
        "id": "mV4a9IKhk_1a",
        "outputId": "3c277aea-e6b4-445b-a9a1-92c4c38aa1bc"
      },
      "outputs": [
        {
          "output_type": "stream",
          "name": "stdout",
          "text": [
            "0\n",
            "0\n",
            "0\n",
            "1\n",
            "3\n",
            "5\n",
            "8\n"
          ]
        }
      ],
      "source": [
        "def count_inversions(lst):\n",
        "    _, inv_count = _merge_count_inversions(lst)\n",
        "    return inv_count\n",
        "\n",
        "def _merge_count_inversions(lst):\n",
        "    if len(lst) <= 1:\n",
        "        return lst, 0\n",
        "\n",
        "    middle = len(lst) // 2\n",
        "    left, a = _merge_count_inversions(lst[:middle])\n",
        "    right, b = _merge_count_inversions(lst[middle:])\n",
        "    merged_lst, c = _merge_count_split_inversions(left, right)\n",
        "\n",
        "    return merged_lst, (a + b + c)\n",
        "\n",
        "def _merge_count_split_inversions(left, right):\n",
        "    result = []\n",
        "    count = 0\n",
        "    i, j = 0, 0\n",
        "    left_len = len(left)\n",
        "\n",
        "    while i < left_len and j < len(right):\n",
        "        if left[i] <= right[j]:\n",
        "            result.append(left[i])\n",
        "            i += 1\n",
        "        else:\n",
        "            result.append(right[j])\n",
        "            count += left_len - i\n",
        "            j += 1\n",
        "\n",
        "    result.extend(left[i:])\n",
        "    result.extend(right[j:])\n",
        "\n",
        "    return result, count\n",
        "\n",
        "# Test code\n",
        "input_array_1 = []  # 0\n",
        "input_array_2 = [1]  # 0\n",
        "input_array_3 = [1, 5]  # 0\n",
        "input_array_4 = [4, 1]  # 1\n",
        "input_array_5 = [4, 1, 2, 3, 9]  # 3\n",
        "input_array_6 = [4, 1, 3, 2, 9, 5]  # 5\n",
        "input_array_7 = [4, 1, 3, 2, 9, 1]  # 8\n",
        "\n",
        "print(count_inversions(input_array_1))\n",
        "print(count_inversions(input_array_2))\n",
        "print(count_inversions(input_array_3))\n",
        "print(count_inversions(input_array_4))\n",
        "print(count_inversions(input_array_5))\n",
        "print(count_inversions(input_array_6))\n",
        "print(count_inversions(input_array_7))\n"
      ]
    }
  ]
}